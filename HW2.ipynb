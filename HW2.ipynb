{
  "nbformat": 4,
  "nbformat_minor": 0,
  "metadata": {
    "colab": {
      "provenance": [],
      "authorship_tag": "ABX9TyMaJjxJs62KdW7LnfAIJ6Z+",
      "include_colab_link": true
    },
    "kernelspec": {
      "name": "python3",
      "display_name": "Python 3"
    },
    "language_info": {
      "name": "python"
    }
  },
  "cells": [
    {
      "cell_type": "markdown",
      "metadata": {
        "id": "view-in-github",
        "colab_type": "text"
      },
      "source": [
        "<a href=\"https://colab.research.google.com/github/TamaraTarasenko/Python-AZ-Python/blob/main/HW2.ipynb\" target=\"_parent\"><img src=\"https://colab.research.google.com/assets/colab-badge.svg\" alt=\"Open In Colab\"/></a>"
      ]
    },
    {
      "cell_type": "code",
      "source": [
        "import pandas as pd\n",
        "import numpy as np"
      ],
      "metadata": {
        "id": "3vbHWfRARG8H"
      },
      "execution_count": 1,
      "outputs": []
    },
    {
      "cell_type": "code",
      "source": [
        "#Data\n",
        "revenue = [14574.49, 7606.46, 8611.41, 9175.41, 8058.65, 8105.44, 11496.28, 9766.09, 10305.32, 14379.96, 10713.97, 15433.50]\n",
        "expenses = [12051.82, 5695.07, 12319.20, 12089.72, 8658.57, 840.20, 3285.73, 5821.12, 6976.93, 16618.61, 10054.37, 3803.96]"
      ],
      "metadata": {
        "id": "IdTNHjPiKqO9"
      },
      "execution_count": 2,
      "outputs": []
    },
    {
      "cell_type": "code",
      "source": [
        "revenue = np.array(revenue)\n",
        "expenses = np.array(expenses)"
      ],
      "metadata": {
        "id": "5XRkTumFREMF"
      },
      "execution_count": 3,
      "outputs": []
    },
    {
      "cell_type": "code",
      "source": [
        "#Calculate Profit As The Differences Between Revenue And Expenses\n",
        "profit = list([])\n",
        "\n",
        "for i in range (0, len(revenue)):\n",
        "    profit.append(revenue[i] - expenses[i])\n",
        "profit"
      ],
      "metadata": {
        "colab": {
          "base_uri": "https://localhost:8080/"
        },
        "id": "Rz7h_GN3Kv3D",
        "outputId": "9e583e3b-76de-4c3b-925b-c73cdbf591cb"
      },
      "execution_count": 4,
      "outputs": [
        {
          "output_type": "execute_result",
          "data": {
            "text/plain": [
              "[2522.67,\n",
              " 1911.3900000000003,\n",
              " -3707.790000000001,\n",
              " -2914.3099999999995,\n",
              " -599.9200000000001,\n",
              " 7265.24,\n",
              " 8210.550000000001,\n",
              " 3944.9700000000003,\n",
              " 3328.3899999999994,\n",
              " -2238.6500000000015,\n",
              " 659.5999999999985,\n",
              " 11629.54]"
            ]
          },
          "metadata": {},
          "execution_count": 4
        }
      ]
    },
    {
      "cell_type": "code",
      "source": [
        "len(profit)"
      ],
      "metadata": {
        "colab": {
          "base_uri": "https://localhost:8080/"
        },
        "id": "OcfhBv6bVIw2",
        "outputId": "729cc801-a266-486c-c328-1871307ebb41"
      },
      "execution_count": 6,
      "outputs": [
        {
          "output_type": "execute_result",
          "data": {
            "text/plain": [
              "12"
            ]
          },
          "metadata": {},
          "execution_count": 6
        }
      ]
    },
    {
      "cell_type": "code",
      "source": [
        "#Calculate Tax As 30% Of Profit And Round To 2 Decimal Points\n",
        "tax = [round(i * 0.3, 2) for i in profit]\n",
        "tax"
      ],
      "metadata": {
        "colab": {
          "base_uri": "https://localhost:8080/"
        },
        "id": "P60F6T8BLAFY",
        "outputId": "532ee39d-fb74-4557-ff93-a37bea51eb8b"
      },
      "execution_count": 38,
      "outputs": [
        {
          "output_type": "execute_result",
          "data": {
            "text/plain": [
              "[756.8,\n",
              " 573.42,\n",
              " -1112.34,\n",
              " -874.29,\n",
              " -179.98,\n",
              " 2179.57,\n",
              " 2463.17,\n",
              " 1183.49,\n",
              " 998.52,\n",
              " -671.6,\n",
              " 197.88,\n",
              " 3488.86]"
            ]
          },
          "metadata": {},
          "execution_count": 38
        }
      ]
    },
    {
      "cell_type": "code",
      "source": [
        "#Calculate Profit Remaining After Tax Is Deducted\n",
        "profit_after_tax = list([])\n",
        "for i in range (0, len(profit)):\n",
        "    profit_after_tax.append(profit[i] - tax[i])\n",
        "profit_after_tax"
      ],
      "metadata": {
        "colab": {
          "base_uri": "https://localhost:8080/"
        },
        "id": "mZPbpYFfLDwA",
        "outputId": "a096b665-1873-4b4d-e8c1-b45a236f1ac3"
      },
      "execution_count": 39,
      "outputs": [
        {
          "output_type": "execute_result",
          "data": {
            "text/plain": [
              "[1765.8700000000001,\n",
              " 1337.9700000000003,\n",
              " -2595.4500000000007,\n",
              " -2040.0199999999995,\n",
              " -419.94000000000005,\n",
              " 5085.67,\n",
              " 5747.380000000001,\n",
              " 2761.4800000000005,\n",
              " 2329.8699999999994,\n",
              " -1567.0500000000015,\n",
              " 461.71999999999855,\n",
              " 8140.68]"
            ]
          },
          "metadata": {},
          "execution_count": 39
        }
      ]
    },
    {
      "cell_type": "code",
      "source": [
        "#Calculate The Profit Margin As Profit After Tax Over Revenue\n",
        "#Round To 2 Decimal Points, Then Multiply By 100 To Get %\n",
        "profit_margin = list([])\n",
        "for i in range (0, len(profit_after_tax)):\n",
        "    profit_margin.append(profit_after_tax[i] / revenue[i])\n",
        "profit_margin\n",
        "\n",
        "profit_margin = [round((i*100),2) for i in profit_margin]\n",
        "\n",
        "profit_margin"
      ],
      "metadata": {
        "colab": {
          "base_uri": "https://localhost:8080/"
        },
        "id": "bAYxAuSSLEvD",
        "outputId": "33ef0927-abde-4663-fd5b-cb9338d42f26"
      },
      "execution_count": 50,
      "outputs": [
        {
          "output_type": "execute_result",
          "data": {
            "text/plain": [
              "[12.12,\n",
              " 17.59,\n",
              " -30.14,\n",
              " -22.23,\n",
              " -5.21,\n",
              " 62.74,\n",
              " 49.99,\n",
              " 28.28,\n",
              " 22.61,\n",
              " -10.9,\n",
              " 4.31,\n",
              " 52.75]"
            ]
          },
          "metadata": {},
          "execution_count": 50
        }
      ]
    },
    {
      "cell_type": "code",
      "source": [
        "#Calculate The Mean Profit After Tax For The 12 Months\n",
        "mean_pat = sum(profit_after_tax) / len(profit_after_tax)\n",
        "mean_pat"
      ],
      "metadata": {
        "colab": {
          "base_uri": "https://localhost:8080/"
        },
        "id": "_CIw7J48LKg6",
        "outputId": "4ca31b7b-69cb-4481-c2e4-21e02e670c34"
      },
      "execution_count": 51,
      "outputs": [
        {
          "output_type": "execute_result",
          "data": {
            "text/plain": [
              "1750.6816666666666"
            ]
          },
          "metadata": {},
          "execution_count": 51
        }
      ]
    },
    {
      "cell_type": "code",
      "source": [
        "#Find The Months With Above-Mean Profit After Tax\n",
        "good_months = list([])\n",
        "for i in range (0, len(profit_after_tax)):\n",
        "    good_months.append(profit_after_tax[i] > mean_pat)\n",
        "good_months"
      ],
      "metadata": {
        "colab": {
          "base_uri": "https://localhost:8080/"
        },
        "id": "vdH47Af5LO1S",
        "outputId": "94c2041c-93bc-40c0-f7c6-02300dee7a04"
      },
      "execution_count": 52,
      "outputs": [
        {
          "output_type": "execute_result",
          "data": {
            "text/plain": [
              "[True, False, False, False, False, True, True, True, True, False, False, True]"
            ]
          },
          "metadata": {},
          "execution_count": 52
        }
      ]
    },
    {
      "cell_type": "code",
      "source": [
        "#Bad Months Are The Opposite Of Good Months!\n",
        "bad_months = list([])\n",
        "for i in range (0, len(profit_after_tax)):\n",
        "    bad_months.append(not (good_months[i]))\n",
        "bad_months"
      ],
      "metadata": {
        "colab": {
          "base_uri": "https://localhost:8080/"
        },
        "id": "M_Pz_T3xLTLn",
        "outputId": "cb48662f-3ac5-465d-d129-4d06c88d6e8a"
      },
      "execution_count": 53,
      "outputs": [
        {
          "output_type": "execute_result",
          "data": {
            "text/plain": [
              "[False, True, True, True, True, False, False, False, False, True, True, False]"
            ]
          },
          "metadata": {},
          "execution_count": 53
        }
      ]
    },
    {
      "cell_type": "code",
      "source": [
        "#The Best Month Is Where Profit After Tax Was Equal To The Maximum\n",
        "best_month = list([])\n",
        "for i in range (0, len(profit_after_tax)):\n",
        "    best_month.append(profit_after_tax[i] == max(profit_after_tax))\n",
        "best_month"
      ],
      "metadata": {
        "colab": {
          "base_uri": "https://localhost:8080/"
        },
        "id": "7cLZkggyLW1Q",
        "outputId": "9c92b1a5-2f62-40fb-e4d8-fd283c93ddfb"
      },
      "execution_count": 54,
      "outputs": [
        {
          "output_type": "execute_result",
          "data": {
            "text/plain": [
              "[False,\n",
              " False,\n",
              " False,\n",
              " False,\n",
              " False,\n",
              " False,\n",
              " False,\n",
              " False,\n",
              " False,\n",
              " False,\n",
              " False,\n",
              " True]"
            ]
          },
          "metadata": {},
          "execution_count": 54
        }
      ]
    },
    {
      "cell_type": "code",
      "source": [
        "#The Worst Month Is Where Profit After Tax Was Equal To The Minimum\n",
        "worst_month = list([])\n",
        "for i in range (0, len(profit_after_tax)):\n",
        "    worst_month.append(profit_after_tax[i] == min(profit_after_tax))\n",
        "worst_month"
      ],
      "metadata": {
        "colab": {
          "base_uri": "https://localhost:8080/"
        },
        "id": "g3Ko3-q4La3c",
        "outputId": "31d6aad4-50fa-43f7-eb53-0aa0c7c40307"
      },
      "execution_count": 55,
      "outputs": [
        {
          "output_type": "execute_result",
          "data": {
            "text/plain": [
              "[False,\n",
              " False,\n",
              " True,\n",
              " False,\n",
              " False,\n",
              " False,\n",
              " False,\n",
              " False,\n",
              " False,\n",
              " False,\n",
              " False,\n",
              " False]"
            ]
          },
          "metadata": {},
          "execution_count": 55
        }
      ]
    },
    {
      "cell_type": "code",
      "source": [
        "#Convert All Calculations To Units Of One Thousand Dollars\n",
        "revenue_1000 = [round(i/1000, 2) for i in revenue]\n",
        "expenses_1000 = [round(i/1000, 2) for i in expenses]\n",
        "profit_1000 = [round(i/1000, 2) for i in profit]\n",
        "profit_after_tax_1000 = [round(i/1000, 2) for i in profit_after_tax]\n",
        "\n",
        "revenue_1000 = [int(i) for i in revenue_1000]\n",
        "expenses_1000 = [int(i) for i in expenses_1000]\n",
        "profit_1000 = [int(i) for i in profit_1000]\n",
        "profit_after_tax_1000 = [int(i) for i in profit_after_tax_1000]"
      ],
      "metadata": {
        "id": "bL5dZ_SmLedu"
      },
      "execution_count": 63,
      "outputs": []
    },
    {
      "cell_type": "code",
      "source": [
        "#Print Results\n",
        "print (\"Revenue :\")\n",
        "print (revenue_1000)\n",
        "print (\"Expenses :\")\n",
        "print (expenses_1000)\n",
        "print (\"Profit :\")\n",
        "print(profit_1000)\n",
        "print (\"Profit after tax :\")\n",
        "print (profit_after_tax_1000)\n",
        "print (\"Profit margin :\")\n",
        "print (profit_margin)\n",
        "print (\"Good months :\")\n",
        "print (good_months)\n",
        "print (\"Bad months :\")\n",
        "print (bad_months)\n",
        "print (\"Best month :\")\n",
        "print (best_month)\n",
        "print (\"Worst month :\")\n",
        "print (worst_month)"
      ],
      "metadata": {
        "colab": {
          "base_uri": "https://localhost:8080/"
        },
        "id": "jgtqTJLMLiYo",
        "outputId": "75c4ab5e-225e-4785-d8af-81bd9fafa0ad"
      },
      "execution_count": 64,
      "outputs": [
        {
          "output_type": "stream",
          "name": "stdout",
          "text": [
            "Revenue :\n",
            "[14, 7, 8, 9, 8, 8, 11, 9, 10, 14, 10, 15]\n",
            "Expenses :\n",
            "[12, 5, 12, 12, 8, 0, 3, 5, 6, 16, 10, 3]\n",
            "Profit :\n",
            "[2, 1, -3, -2, 0, 7, 8, 3, 3, -2, 0, 11]\n",
            "Profit after tax :\n",
            "[1, 1, -2, -2, 0, 5, 5, 2, 2, -1, 0, 8]\n",
            "Profit margin :\n",
            "[12.12, 17.59, -30.14, -22.23, -5.21, 62.74, 49.99, 28.28, 22.61, -10.9, 4.31, 52.75]\n",
            "Good months :\n",
            "[True, False, False, False, False, True, True, True, True, False, False, True]\n",
            "Bad months :\n",
            "[False, True, True, True, True, False, False, False, False, True, True, False]\n",
            "Best month :\n",
            "[False, False, False, False, False, False, False, False, False, False, False, True]\n",
            "Worst month :\n",
            "[False, False, True, False, False, False, False, False, False, False, False, False]\n"
          ]
        }
      ]
    }
  ]
}